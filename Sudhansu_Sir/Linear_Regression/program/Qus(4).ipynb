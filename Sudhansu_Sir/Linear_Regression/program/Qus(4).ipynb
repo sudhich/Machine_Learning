{
 "cells": [
  {
   "cell_type": "markdown",
   "id": "c3312905",
   "metadata": {},
   "source": [
    "# Python"
   ]
  },
  {
   "cell_type": "markdown",
   "id": "d3fd026e",
   "metadata": {},
   "source": [
    "### Question 4: -\n",
    "Write a program to download the data from the link given below and then read the data and convert the into\n",
    "the proper structure and return it as a CSV file."
   ]
  },
  {
   "cell_type": "markdown",
   "id": "86b09e6b",
   "metadata": {},
   "source": [
    "### Ans-"
   ]
  },
  {
   "cell_type": "code",
   "execution_count": 1,
   "id": "6bdd9811",
   "metadata": {},
   "outputs": [
    {
     "name": "stdout",
     "output_type": "stream",
     "text": [
      "Data saved as nasa_meteorites.csv successfully.\n"
     ]
    }
   ],
   "source": [
    "import csv\n",
    "import json\n",
    "import requests\n",
    "\n",
    "def download_data(url):\n",
    "    response = requests.get(url)\n",
    "    if response.status_code == 200:\n",
    "        return response.json()\n",
    "    else:\n",
    "        print(\"Error downloading data.\")\n",
    "        return None\n",
    "\n",
    "def convert_to_csv(data, filename):\n",
    "    if data is None:\n",
    "        return\n",
    "\n",
    "    # Define the desired attributes and corresponding CSV headers\n",
    "    attributes = [\n",
    "        (\"name\", \"Name of Earth Meteorite\"),\n",
    "        (\"id\", \"ID of Earth Meteorite\"),\n",
    "        (\"nametype\", \"Meteorite Type\"),\n",
    "        (\"recclass\", \"Meteorite Class\"),\n",
    "        (\"mass (g)\", \"Mass of Earth Meteorite (g)\"),\n",
    "        (\"year\", \"Year of Impact\"),\n",
    "        (\"reclat\", \"Latitude\"),\n",
    "        (\"reclong\", \"Longitude\"),\n",
    "        (\"coordinates\", \"Coordinates\")\n",
    "    ]\n",
    "\n",
    "    with open(filename, \"w\", newline=\"\", encoding=\"utf-8\") as csvfile:\n",
    "        writer = csv.writer(csvfile)\n",
    "        writer.writerow([header for _, header in attributes])  # Write CSV headers\n",
    "\n",
    "        for item in data:\n",
    "            row = []\n",
    "            for attr, _ in attributes:\n",
    "                value = item.get(attr)\n",
    "                if isinstance(value, list):\n",
    "                    value = \", \".join(str(v) for v in value)\n",
    "                row.append(value)\n",
    "            writer.writerow(row)\n",
    "\n",
    "    print(f\"Data saved as {filename} successfully.\")\n",
    "\n",
    "# Download data from the given link\n",
    "url = \"https://data.nasa.gov/resource/y77d-th95.json\"\n",
    "data = download_data(url)\n",
    "\n",
    "# Convert and save data as a CSV file\n",
    "if data:\n",
    "    convert_to_csv(data, \"nasa_meteorites.csv\")\n"
   ]
  },
  {
   "cell_type": "code",
   "execution_count": 6,
   "id": "4a61a0e8",
   "metadata": {},
   "outputs": [],
   "source": [
    "#import pandas as pd\n",
    "#df=pd.read_csv(\"nasa_meteorites.csv\")\n",
    "#df.head(6)"
   ]
  },
  {
   "cell_type": "code",
   "execution_count": null,
   "id": "301ed0af",
   "metadata": {},
   "outputs": [],
   "source": []
  }
 ],
 "metadata": {
  "kernelspec": {
   "display_name": "Python 3 (ipykernel)",
   "language": "python",
   "name": "python3"
  },
  "language_info": {
   "codemirror_mode": {
    "name": "ipython",
    "version": 3
   },
   "file_extension": ".py",
   "mimetype": "text/x-python",
   "name": "python",
   "nbconvert_exporter": "python",
   "pygments_lexer": "ipython3",
   "version": "3.9.13"
  }
 },
 "nbformat": 4,
 "nbformat_minor": 5
}
